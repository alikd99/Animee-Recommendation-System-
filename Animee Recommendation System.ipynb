{
  "nbformat": 4,
  "nbformat_minor": 0,
  "metadata": {
    "colab": {
      "provenance": [],
      "gpuType": "V28"
    },
    "kernelspec": {
      "name": "python3",
      "display_name": "Python 3"
    },
    "language_info": {
      "name": "python"
    },
    "accelerator": "TPU"
  },
  "cells": [
    {
      "cell_type": "code",
      "execution_count": null,
      "metadata": {
        "colab": {
          "base_uri": "https://localhost:8080/"
        },
        "id": "uZc4DSbpxDxl",
        "outputId": "977c2b94-b100-44c8-a4b3-62de93e2195b"
      },
      "outputs": [
        {
          "output_type": "stream",
          "name": "stdout",
          "text": [
            "Requirement already satisfied: scikit-surprise in /usr/local/lib/python3.11/dist-packages (1.1.4)\n",
            "Requirement already satisfied: joblib>=1.2.0 in /usr/local/lib/python3.11/dist-packages (from scikit-surprise) (1.4.2)\n",
            "Requirement already satisfied: numpy>=1.19.5 in /usr/local/lib/python3.11/dist-packages (from scikit-surprise) (1.26.4)\n",
            "Requirement already satisfied: scipy>=1.6.0 in /usr/local/lib/python3.11/dist-packages (from scikit-surprise) (1.14.1)\n",
            "   Unnamed: 0  user_id  anime_id  rating  watching_status  watched_episodes\n",
            "0           0    20807      4282      10                2                 1\n",
            "1           1    20807      5665       0                6                 0\n",
            "2           2    20807     36127       0                6                 0\n",
            "3           3    20807     38163       0                6                 0\n",
            "4           4    20807      1284       0                6                 0\n"
          ]
        }
      ],
      "source": [
        "import pandas as pd\n",
        "!pip install scikit-surprise\n",
        "from surprise import SVD, Dataset, Reader\n",
        "from surprise.model_selection import train_test_split\n",
        "from surprise import accuracy\n",
        "\n",
        "df = pd.read_csv('train.csv')\n",
        "\n",
        "# Check the first few rows to ensure it’s loaded correctly\n",
        "print(df.head())\n",
        "\n",
        "# Define the rating scale (0 to 10 as per your data)\n",
        "reader = Reader(rating_scale=(0, 10))\n",
        "\n",
        "# Load the data into Surprise’s format (only need user_id, anime_id, rating)\n",
        "data = Dataset.load_from_df(df[['user_id', 'anime_id', 'rating']], reader)"
      ]
    },
    {
      "cell_type": "code",
      "source": [
        "from surprise.model_selection import GridSearchCV\n",
        "\n",
        "param_grid = {\n",
        "    'n_factors': [50, 100, 150],\n",
        "    'n_epochs': [10 , 20, 30, 40],\n",
        "    'lr_all': [0.0001, 0.00005],\n",
        "    'reg_all': [0.001, 0.0001]\n",
        "}\n",
        "gs = GridSearchCV(SVD, param_grid, measures=['rmse'], cv=3)\n",
        "gs.fit(data)\n",
        "print(gs.best_params['rmse'])  # Best parameters\n",
        "print(gs.best_score['rmse'])   # Best RM"
      ],
      "metadata": {
        "colab": {
          "base_uri": "https://localhost:8080/"
        },
        "id": "W3neAN5MxJky",
        "outputId": "0bce1136-fd09-4564-901a-fa47317a318b"
      },
      "execution_count": null,
      "outputs": [
        {
          "output_type": "stream",
          "name": "stdout",
          "text": [
            "{'n_factors': 50, 'n_epochs': 40, 'lr_all': 0.0001, 'reg_all': 0.0001}\n",
            "3.407479937408079\n"
          ]
        }
      ]
    },
    {
      "cell_type": "code",
      "source": [
        "trainset, testset = train_test_split(data, test_size=0.2, random_state=42)"
      ],
      "metadata": {
        "id": "8gf8lcrxrNIt"
      },
      "execution_count": null,
      "outputs": []
    },
    {
      "cell_type": "code",
      "source": [
        "# Initialize SVD with 50 latent factors (you can tweak this later)\n",
        "model = SVD(\n",
        "    n_factors=50,        # Moderate number of factors for sparsity\n",
        "    n_epochs=40,         # More iterations for better convergence\n",
        "    lr_all=0.0001,        # Default learning rate\n",
        "    reg_all=0.0001,        # Slightly higher regularization for sparsity\n",
        "    random_state=42      # Reproducibility\n",
        ")\n",
        "\n",
        "# Train the model on the training set\n",
        "model.fit(trainset)"
      ],
      "metadata": {
        "colab": {
          "base_uri": "https://localhost:8080/"
        },
        "id": "S-nR2KtrqkG3",
        "outputId": "42677230-6ad0-4fe9-8c13-077228356204"
      },
      "execution_count": null,
      "outputs": [
        {
          "output_type": "execute_result",
          "data": {
            "text/plain": [
              "<surprise.prediction_algorithms.matrix_factorization.SVD at 0x7e1ef09e0710>"
            ]
          },
          "metadata": {},
          "execution_count": 5
        }
      ]
    },
    {
      "cell_type": "code",
      "source": [
        "# Make predictions on the test set\n",
        "predictions = model.test(testset)\n",
        "\n",
        "# Compute and print RMSE\n",
        "rmse = accuracy.rmse(predictions)\n",
        "print(f\"RMSE: {rmse}\")"
      ],
      "metadata": {
        "colab": {
          "base_uri": "https://localhost:8080/"
        },
        "id": "JhqsPnPeq6ta",
        "outputId": "0b551672-fd2f-4254-c63d-f65ad9e5ffaa"
      },
      "execution_count": null,
      "outputs": [
        {
          "output_type": "stream",
          "name": "stdout",
          "text": [
            "RMSE: 3.3569\n",
            "RMSE: 3.3569380700575038\n"
          ]
        }
      ]
    },
    {
      "cell_type": "code",
      "source": [
        "unique_users = df['user_id'].unique()\n",
        "all_anime_ids = df['anime_id'].unique()\n",
        "\n",
        "# Step 5: Function to get top 5 anime for a user\n",
        "def get_top_n_recommendations(model, user_id, anime_ids, trainset, n=5):\n",
        "    # Get anime the user has already rated (to exclude them)\n",
        "    rated_anime = set([iid for (iid, _) in trainset.ur[trainset.to_inner_uid(user_id)]])\n",
        "    # Filter out already rated anime\n",
        "    unrated_anime = [aid for aid in anime_ids if aid not in rated_anime]\n",
        "    # Predict ratings for unrated anime\n",
        "    predictions = [model.predict(user_id, anime_id) for anime_id in unrated_anime]\n",
        "    # Sort by predicted rating (highest first)\n",
        "    predictions.sort(key=lambda x: x.est, reverse=True)\n",
        "    # Return top N anime_ids as a space-separated string\n",
        "    top_n = [str(pred.iid) for pred in predictions[:n]]\n",
        "    return \" \".join(top_n)"
      ],
      "metadata": {
        "id": "hSsTie2urZkd"
      },
      "execution_count": null,
      "outputs": []
    },
    {
      "cell_type": "code",
      "source": [
        "recommendations = []\n",
        "for user_id in unique_users:\n",
        "    top_5_anime = get_top_n_recommendations(model, user_id, all_anime_ids, trainset, n=5)\n",
        "    recommendations.append([user_id, top_5_anime])"
      ],
      "metadata": {
        "id": "lqjoguY9rfNh"
      },
      "execution_count": null,
      "outputs": []
    },
    {
      "cell_type": "code",
      "source": [
        "rec_df = pd.DataFrame(recommendations, columns=['user_id', 'anime_ids'])\n",
        "\n",
        "# Step 8: Save to CSV\n",
        "rec_df.to_csv('top_5_anime_recommendations.csv', index=False)\n",
        "print(\"Recommendations saved to 'top_5_anime_recommendations.csv'\")"
      ],
      "metadata": {
        "colab": {
          "base_uri": "https://localhost:8080/"
        },
        "id": "WYnVe1fDriAP",
        "outputId": "d23a73d7-419c-4b33-d5b7-13edc71eb7bd"
      },
      "execution_count": null,
      "outputs": [
        {
          "output_type": "stream",
          "name": "stdout",
          "text": [
            "Recommendations saved to 'top_5_anime_recommendations.csv'\n"
          ]
        }
      ]
    }
  ]
}